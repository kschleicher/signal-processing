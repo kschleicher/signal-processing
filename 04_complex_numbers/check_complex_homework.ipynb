{
 "cells": [
  {
   "cell_type": "code",
   "execution_count": 2,
   "metadata": {},
   "outputs": [],
   "source": [
    "import sys\n",
    "import numpy as np\n",
    "import scipy as sp\n",
    "import matplotlib.pyplot as plt\n",
    "from cmath import *\n",
    "z1 = sqrt(3) + 1j\n",
    "z2 = 1 + 1j\n",
    "z3 = 4+3j\n",
    "z4= 2+3j\n"
   ]
  },
  {
   "cell_type": "code",
   "execution_count": 3,
   "metadata": {},
   "outputs": [
    {
     "name": "stdout",
     "output_type": "stream",
     "text": [
      "(1.7320508075688772+1j) (1+1j) (4+3j) (2+3j)\n"
     ]
    }
   ],
   "source": [
    "print (z1,z2,z3,z4)"
   ]
  },
  {
   "cell_type": "code",
   "execution_count": 25,
   "metadata": {},
   "outputs": [
    {
     "data": {
      "text/plain": [
       "1.9999999999999998"
      ]
     },
     "execution_count": 25,
     "metadata": {},
     "output_type": "execute_result"
    }
   ],
   "source": [
    "np.sqrt(z1.real*z1.real+z1.imag*z1.imag)"
   ]
  },
  {
   "cell_type": "code",
   "execution_count": 9,
   "metadata": {},
   "outputs": [
    {
     "data": {
      "text/plain": [
       "2.0"
      ]
     },
     "execution_count": 9,
     "metadata": {},
     "output_type": "execute_result"
    }
   ],
   "source": [
    "np.sqrt(3+1)"
   ]
  },
  {
   "cell_type": "code",
   "execution_count": 24,
   "metadata": {},
   "outputs": [
    {
     "data": {
      "text/plain": [
       "(1.9999999999999998+0j)"
      ]
     },
     "execution_count": 24,
     "metadata": {},
     "output_type": "execute_result"
    }
   ],
   "source": [
    "sqrt(z1*z1.conjugate())\n",
    "# FOIL\n",
    "# (1.7320508075688772+1j) *(1.7320508075688772-1j) = 1.732*1.732 + 1.732*(-j)"
   ]
  },
  {
   "cell_type": "code",
   "execution_count": 26,
   "metadata": {},
   "outputs": [],
   "source": [
    "# sqrt((c+di)*conjugate((c+di)))=sqrt((c+di)*(c-di))=sqrt(c^2 + c*(-id) + di * c + di * (-di))=\n",
    "# sqrt( c^2 - (di)^2) =sqrt(c^2 - d^2 i^2 ) = sqrt(c^2 + d^2)"
   ]
  },
  {
   "cell_type": "code",
   "execution_count": 23,
   "metadata": {},
   "outputs": [],
   "source": [
    "abs?"
   ]
  },
  {
   "cell_type": "code",
   "execution_count": 14,
   "metadata": {},
   "outputs": [
    {
     "data": {
      "text/plain": [
       "2.0"
      ]
     },
     "execution_count": 14,
     "metadata": {},
     "output_type": "execute_result"
    }
   ],
   "source": [
    "abs(z1)"
   ]
  },
  {
   "cell_type": "code",
   "execution_count": 15,
   "metadata": {},
   "outputs": [
    {
     "data": {
      "text/plain": [
       "1.4142135623730951"
      ]
     },
     "execution_count": 15,
     "metadata": {},
     "output_type": "execute_result"
    }
   ],
   "source": [
    "abs(z2)"
   ]
  },
  {
   "cell_type": "code",
   "execution_count": 16,
   "metadata": {},
   "outputs": [
    {
     "data": {
      "text/plain": [
       "3.3858679264167635"
      ]
     },
     "execution_count": 16,
     "metadata": {},
     "output_type": "execute_result"
    }
   ],
   "source": [
    "abs(z1+z2)"
   ]
  },
  {
   "cell_type": "code",
   "execution_count": 28,
   "metadata": {},
   "outputs": [
    {
     "name": "stdout",
     "output_type": "stream",
     "text": [
      "(1.7320508075688772+1j) (1+1j) (2.732050807568877+2j) (11.4641016151+0j) (3.3858679264167635+0j)\n"
     ]
    }
   ],
   "source": [
    "print (z1,z2,z1+z2,(z1+z2) * np.conjugate(z1+z2),sqrt((z1+z2) * np.conjugate(z1+z2)))"
   ]
  },
  {
   "cell_type": "code",
   "execution_count": 24,
   "metadata": {},
   "outputs": [
    {
     "name": "stdout",
     "output_type": "stream",
     "text": [
      "np.angle(z1)= 0.523598775598  radians and  30.0 degrees\n"
     ]
    }
   ],
   "source": [
    "print('np.angle(z1)=',np.angle(z1),' radians and ',np.angle(z1)/np.pi*180.,'degrees')"
   ]
  },
  {
   "cell_type": "code",
   "execution_count": 25,
   "metadata": {},
   "outputs": [
    {
     "name": "stdout",
     "output_type": "stream",
     "text": [
      "np.angle(z2)= 0.785398163397  radians and  45.0 degrees\n"
     ]
    }
   ],
   "source": [
    "print('np.angle(z2)=',np.angle(z2),' radians and ',np.angle(z2)/np.pi*180.,'degrees')"
   ]
  },
  {
   "cell_type": "code",
   "execution_count": 28,
   "metadata": {},
   "outputs": [
    {
     "name": "stdout",
     "output_type": "stream",
     "text": [
      "np.angle(z1/z2)= -0.261799387799  radians and  -15.0 degrees\n",
      "notice this is angle(z1)-angle(z2), i.e. 30-45 degrees\n"
     ]
    }
   ],
   "source": [
    "print('np.angle(z1/z2)=',np.angle(z1/z2),' radians and ',np.angle(z1/z2)/np.pi*180.,'degrees')\n",
    "print('notice this is angle(z1)-angle(z2), i.e. 30-45 degrees')"
   ]
  },
  {
   "cell_type": "code",
   "execution_count": 34,
   "metadata": {},
   "outputs": [
    {
     "data": {
      "text/plain": [
       "(2-3j)"
      ]
     },
     "execution_count": 34,
     "metadata": {},
     "output_type": "execute_result"
    }
   ],
   "source": [
    "z4.conjugate()"
   ]
  },
  {
   "cell_type": "code",
   "execution_count": 35,
   "metadata": {},
   "outputs": [
    {
     "data": {
      "text/plain": [
       "(17-6j)"
      ]
     },
     "execution_count": 35,
     "metadata": {},
     "output_type": "execute_result"
    }
   ],
   "source": [
    "z3*z4.conjugate()"
   ]
  },
  {
   "cell_type": "code",
   "execution_count": 36,
   "metadata": {},
   "outputs": [
    {
     "data": {
      "text/plain": [
       "(1.3076923076923077-0.46153846153846156j)"
      ]
     },
     "execution_count": 36,
     "metadata": {},
     "output_type": "execute_result"
    }
   ],
   "source": [
    "z3/z4"
   ]
  },
  {
   "cell_type": "code",
   "execution_count": 37,
   "metadata": {},
   "outputs": [
    {
     "data": {
      "text/plain": [
       "(13+0j)"
      ]
     },
     "execution_count": 37,
     "metadata": {},
     "output_type": "execute_result"
    }
   ],
   "source": [
    "# To do this by hand I already have z3*z4.conjugate()=(17-6j) for the numerator.  I need z4*z4.conjugate()\n",
    "# for the denominator:\n",
    "z4*z4.conjugate()"
   ]
  },
  {
   "cell_type": "code",
   "execution_count": null,
   "metadata": {},
   "outputs": [],
   "source": [
    "# z3/z4 = z3*z4.conjugate()/(z4*z4.conjugate()) = (17-6j)/13 = 17/13 + 6/13j.  \n",
    "# Be careful with python 2.x.  It compute 17/13 using integer arithmetic and gets 1.  \n",
    "# This is the way c , c++ and fortran work.  In python 3.x you need to write 17//13 \n",
    "# to get integer arithmetic. \n",
    "\n"
   ]
  },
  {
   "cell_type": "code",
   "execution_count": 29,
   "metadata": {},
   "outputs": [
    {
     "data": {
      "text/plain": [
       "1"
      ]
     },
     "execution_count": 29,
     "metadata": {},
     "output_type": "execute_result"
    }
   ],
   "source": [
    "# python 3 integer division\n",
    "17//13"
   ]
  },
  {
   "cell_type": "code",
   "execution_count": 30,
   "metadata": {},
   "outputs": [
    {
     "data": {
      "text/plain": [
       "4"
      ]
     },
     "execution_count": 30,
     "metadata": {},
     "output_type": "execute_result"
    }
   ],
   "source": [
    "$ python remainder of modulo arithmetic\n",
    "17%13"
   ]
  },
  {
   "cell_type": "code",
   "execution_count": null,
   "metadata": {},
   "outputs": [],
   "source": []
  }
 ],
 "metadata": {
  "kernelspec": {
   "display_name": "Python 3",
   "language": "python",
   "name": "python3"
  },
  "language_info": {
   "codemirror_mode": {
    "name": "ipython",
    "version": 3
   },
   "file_extension": ".py",
   "mimetype": "text/x-python",
   "name": "python",
   "nbconvert_exporter": "python",
   "pygments_lexer": "ipython3",
   "version": "3.5.4"
  }
 },
 "nbformat": 4,
 "nbformat_minor": 2
}
